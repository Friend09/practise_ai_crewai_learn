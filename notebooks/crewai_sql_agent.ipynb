{
 "cells": [
  {
   "cell_type": "markdown",
   "metadata": {},
   "source": [
    "# CREATE A SQL AGENT USING CREWAI AND GROQ\n"
   ]
  },
  {
   "cell_type": "markdown",
   "metadata": {},
   "source": [
    "[medium article](https://medium.com/the-ai-forum/create-a-sql-agent-using-crewai-and-groq-005895ba31b3#id_token=eyJhbGciOiJSUzI1NiIsImtpZCI6ImVlYzUzNGZhNWI4Y2FjYTIwMWNhOGQwZmY5NmI1NGM1NjIyMTBkMWUiLCJ0eXAiOiJKV1QifQ.eyJpc3MiOiJodHRwczovL2FjY291bnRzLmdvb2dsZS5jb20iLCJhenAiOiIyMTYyOTYwMzU4MzQtazFrNnFlMDYwczJ0cDJhMmphbTRsamRjbXMwMHN0dGcuYXBwcy5nb29nbGV1c2VyY29udGVudC5jb20iLCJhdWQiOiIyMTYyOTYwMzU4MzQtazFrNnFlMDYwczJ0cDJhMmphbTRsamRjbXMwMHN0dGcuYXBwcy5nb29nbGV1c2VyY29udGVudC5jb20iLCJzdWIiOiIxMTQwNDEwNjgxNjIzOTM5OTc4OTIiLCJlbWFpbCI6InZhbXNpLmFyQGdtYWlsLmNvbSIsImVtYWlsX3ZlcmlmaWVkIjp0cnVlLCJuYmYiOjE3MzkwMzI5NTUsIm5hbWUiOiJSYWdodSB2YW1zaSIsInBpY3R1cmUiOiJodHRwczovL2xoMy5nb29nbGV1c2VyY29udGVudC5jb20vYS9BQ2c4b2NKaEZBeHY3OHdBOVc0TzhfS1JTUlR2dUFhLVpJVThOXzd6R2NuclJLSnNWcUt4bmo2aD1zOTYtYyIsImdpdmVuX25hbWUiOiJSYWdodSIsImZhbWlseV9uYW1lIjoidmFtc2kiLCJpYXQiOjE3MzkwMzMyNTUsImV4cCI6MTczOTAzNjg1NSwianRpIjoiMGIzZjI0M2I0NGI3MTIyODI3MDcxNGIxZDkwNjZhYWQ5ZDMyZGQyNyJ9.lu6yyFe0oX76nWUn5UiuoizCqH-ay9FoL_dbh4jQOZlmMM_3XPXzwbq8b-nd-71SA8ktDAO5Nr0R4n5sdDduWAmOcCJWm0Dm3yrB6_Gg4IPeKGBco5ZRquGcnQSvqh-wOCNjwrcs_k57QNzu9yjsUXpBFEmaN7k28joZZXqHUYz9hAKemDFHVJWp43byyXLBQJeT2z9I5CA4WlAA851GSBNJlq1Ko4baMXffyEziITIHJWKfW28of-J-t7F-Uaqrx4r4KKazSISa58dhWdufIiwU8E1C0iDQyj6BhGemmSKd4yTbkuW9MR3V7XVqH-qk0axFeE13GKI76ijfEO5SHw)"
   ]
  },
  {
   "cell_type": "markdown",
   "metadata": {},
   "source": [
    "## SETUP\n"
   ]
  },
  {
   "cell_type": "code",
   "execution_count": 85,
   "metadata": {},
   "outputs": [],
   "source": [
    "import json\n",
    "import os\n",
    "import sqlite3\n",
    "from dataclasses import asdict, dataclass\n",
    "from datetime import datetime, timezone\n",
    "from pathlib import Path\n",
    "from textwrap import dedent\n",
    "from typing import Any, Dict, List, Tuple, Union\n",
    "\n",
    "import pandas as pd\n",
    "from crewai import Agent, Crew, Process, Task\n",
    "from crewai.tools import tool\n",
    "from langchain.schema import AgentFinish\n",
    "from langchain.schema.output import LLMResult\n",
    "from langchain_community.tools.sql_database.tool import (\n",
    "    InfoSQLDatabaseTool,\n",
    "    ListSQLDatabaseTool,\n",
    "    QuerySQLCheckerTool,\n",
    "    # QuerySQLDataBaseTool,\n",
    ")\n",
    "from langchain_community.tools import QuerySQLDatabaseTool\n",
    "from langchain_community.utilities.sql_database import SQLDatabase\n",
    "from langchain_core.callbacks.base import BaseCallbackHandler\n",
    "from langchain_core.prompts import ChatPromptTemplate\n",
    "from langchain_openai import ChatOpenAI\n",
    "\n",
    "# from google.colab import userdata"
   ]
  },
  {
   "cell_type": "code",
   "execution_count": 86,
   "metadata": {},
   "outputs": [],
   "source": [
    "# import openai apikey\n",
    "import os\n",
    "from dotenv import load_dotenv, find_dotenv\n",
    "\n",
    "_ = load_dotenv(find_dotenv())\n",
    "OPENAI_API_KEY = os.getenv(\"OPENAI_API_KEY\")\n",
    "os.environ[\"OPENAI_API_KEY\"] = OPENAI_API_KEY"
   ]
  },
  {
   "cell_type": "markdown",
   "metadata": {},
   "source": [
    "## DATA"
   ]
  },
  {
   "cell_type": "markdown",
   "metadata": {},
   "source": [
    "- [dataset of ds_salaries](https://github.com/YuluDuan/Hypothesis-Testing-Data-Science-salary-comparison-in-different-location/blob/main/ds_salaries.csv)"
   ]
  },
  {
   "cell_type": "code",
   "execution_count": 87,
   "metadata": {},
   "outputs": [
    {
     "data": {
      "text/html": [
       "<div>\n",
       "<style scoped>\n",
       "    .dataframe tbody tr th:only-of-type {\n",
       "        vertical-align: middle;\n",
       "    }\n",
       "\n",
       "    .dataframe tbody tr th {\n",
       "        vertical-align: top;\n",
       "    }\n",
       "\n",
       "    .dataframe thead th {\n",
       "        text-align: right;\n",
       "    }\n",
       "</style>\n",
       "<table border=\"1\" class=\"dataframe\">\n",
       "  <thead>\n",
       "    <tr style=\"text-align: right;\">\n",
       "      <th></th>\n",
       "      <th>work_year</th>\n",
       "      <th>experience_level</th>\n",
       "      <th>employment_type</th>\n",
       "      <th>job_title</th>\n",
       "      <th>salary</th>\n",
       "      <th>salary_currency</th>\n",
       "      <th>salary_in_usd</th>\n",
       "      <th>employee_residence</th>\n",
       "      <th>remote_ratio</th>\n",
       "      <th>company_location</th>\n",
       "      <th>company_size</th>\n",
       "    </tr>\n",
       "  </thead>\n",
       "  <tbody>\n",
       "    <tr>\n",
       "      <th>0</th>\n",
       "      <td>2020</td>\n",
       "      <td>MI</td>\n",
       "      <td>FT</td>\n",
       "      <td>Data Scientist</td>\n",
       "      <td>70000</td>\n",
       "      <td>EUR</td>\n",
       "      <td>79833</td>\n",
       "      <td>DE</td>\n",
       "      <td>0</td>\n",
       "      <td>DE</td>\n",
       "      <td>L</td>\n",
       "    </tr>\n",
       "    <tr>\n",
       "      <th>1</th>\n",
       "      <td>2020</td>\n",
       "      <td>SE</td>\n",
       "      <td>FT</td>\n",
       "      <td>Machine Learning Scientist</td>\n",
       "      <td>260000</td>\n",
       "      <td>USD</td>\n",
       "      <td>260000</td>\n",
       "      <td>JP</td>\n",
       "      <td>0</td>\n",
       "      <td>JP</td>\n",
       "      <td>S</td>\n",
       "    </tr>\n",
       "    <tr>\n",
       "      <th>2</th>\n",
       "      <td>2020</td>\n",
       "      <td>SE</td>\n",
       "      <td>FT</td>\n",
       "      <td>Big Data Engineer</td>\n",
       "      <td>85000</td>\n",
       "      <td>GBP</td>\n",
       "      <td>109024</td>\n",
       "      <td>GB</td>\n",
       "      <td>50</td>\n",
       "      <td>GB</td>\n",
       "      <td>M</td>\n",
       "    </tr>\n",
       "    <tr>\n",
       "      <th>3</th>\n",
       "      <td>2020</td>\n",
       "      <td>MI</td>\n",
       "      <td>FT</td>\n",
       "      <td>Product Data Analyst</td>\n",
       "      <td>20000</td>\n",
       "      <td>USD</td>\n",
       "      <td>20000</td>\n",
       "      <td>HN</td>\n",
       "      <td>0</td>\n",
       "      <td>HN</td>\n",
       "      <td>S</td>\n",
       "    </tr>\n",
       "    <tr>\n",
       "      <th>4</th>\n",
       "      <td>2020</td>\n",
       "      <td>SE</td>\n",
       "      <td>FT</td>\n",
       "      <td>Machine Learning Engineer</td>\n",
       "      <td>150000</td>\n",
       "      <td>USD</td>\n",
       "      <td>150000</td>\n",
       "      <td>US</td>\n",
       "      <td>50</td>\n",
       "      <td>US</td>\n",
       "      <td>L</td>\n",
       "    </tr>\n",
       "  </tbody>\n",
       "</table>\n",
       "</div>"
      ],
      "text/plain": [
       "   work_year experience_level employment_type                   job_title  \\\n",
       "0       2020               MI              FT              Data Scientist   \n",
       "1       2020               SE              FT  Machine Learning Scientist   \n",
       "2       2020               SE              FT           Big Data Engineer   \n",
       "3       2020               MI              FT        Product Data Analyst   \n",
       "4       2020               SE              FT   Machine Learning Engineer   \n",
       "\n",
       "   salary salary_currency  salary_in_usd employee_residence  remote_ratio  \\\n",
       "0   70000             EUR          79833                 DE             0   \n",
       "1  260000             USD         260000                 JP             0   \n",
       "2   85000             GBP         109024                 GB            50   \n",
       "3   20000             USD          20000                 HN             0   \n",
       "4  150000             USD         150000                 US            50   \n",
       "\n",
       "  company_location company_size  \n",
       "0               DE            L  \n",
       "1               JP            S  \n",
       "2               GB            M  \n",
       "3               HN            S  \n",
       "4               US            L  "
      ]
     },
     "execution_count": 87,
     "metadata": {},
     "output_type": "execute_result"
    }
   ],
   "source": [
    "# load the data\n",
    "df = pd.read_csv(\n",
    "    \"/Users/vamsi_mbmax/Library/CloudStorage/OneDrive-Personal/01_vam_PROJECTS/LEARNING/proj_AI/dev_proj_AI/practise_ai_crewai_learn/data/ds_salaries.csv\",\n",
    "    index_col=0,\n",
    ")\n",
    "\n",
    "df.head()"
   ]
  },
  {
   "cell_type": "code",
   "execution_count": 88,
   "metadata": {},
   "outputs": [
    {
     "name": "stdout",
     "output_type": "stream",
     "text": [
      "db already exist\n"
     ]
    }
   ],
   "source": [
    "connection = sqlite3.connect(\"../data/salaries.db\")\n",
    "\n",
    "try:\n",
    "    df.to_sql(name=\"salaries\", con=connection)\n",
    "except:\n",
    "    print(\"db already exist\")"
   ]
  },
  {
   "cell_type": "code",
   "execution_count": 89,
   "metadata": {},
   "outputs": [
    {
     "data": {
      "text/plain": [
       "'sqlite'"
      ]
     },
     "execution_count": 89,
     "metadata": {},
     "output_type": "execute_result"
    }
   ],
   "source": [
    "# connect to database\n",
    "db = SQLDatabase.from_uri(\"sqlite:///../data/salaries.db\")\n",
    "db.dialect"
   ]
  },
  {
   "cell_type": "markdown",
   "metadata": {},
   "source": [
    "## SETUP LOGGER"
   ]
  },
  {
   "cell_type": "code",
   "execution_count": 90,
   "metadata": {},
   "outputs": [],
   "source": [
    "@dataclass\n",
    "class Event:\n",
    "    event: str\n",
    "    timestamp: str\n",
    "    text: str\n",
    "\n",
    "\n",
    "def _current_time() -> str:\n",
    "    return datetime.now(timezone.utc).isoformat()"
   ]
  },
  {
   "cell_type": "code",
   "execution_count": 91,
   "metadata": {},
   "outputs": [],
   "source": [
    "class LLMCallbackHandler(BaseCallbackHandler):\n",
    "    def __init__(self, log_path: Path):\n",
    "        self.log_path = log_path\n",
    "\n",
    "    def on_llm_start(\n",
    "        self, serialized: Dict[str, Any], prompts: List[str], **kwargs: Any\n",
    "    ) -> Any:\n",
    "        \"\"\"Run when LLM starts running.\"\"\"\n",
    "        assert len(prompts) == 1\n",
    "        event = Event(event=\"llm_start\", timestamp=_current_time(), text=prompts[0])\n",
    "        with self.log_path.open(\"a\", encoding=\"utf-8\") as file:\n",
    "            file.write(json.dumps(asdict(event)) + \"\\n\")\n",
    "\n",
    "    def on_llm_end(self, response: LLMResult, **kwargs: Any) -> Any:\n",
    "        \"\"\"Run when LLM ends running.\"\"\"\n",
    "        generation = response.generations[-1][-1].message.content\n",
    "        event = Event(event=\"llm_end\", timestamp=_current_time(), text=generation)\n",
    "        with self.log_path.open(\"a\", encoding=\"utf-8\") as file:\n",
    "            file.write(json.dumps(asdict(event)) + \"\\n\")"
   ]
  },
  {
   "cell_type": "markdown",
   "metadata": {},
   "source": [
    "## SETUP THE LLM"
   ]
  },
  {
   "cell_type": "code",
   "execution_count": 92,
   "metadata": {},
   "outputs": [],
   "source": [
    "llm = ChatOpenAI(\n",
    "    api_key=OPENAI_API_KEY,\n",
    "    model=\"gpt-4o-mini\",\n",
    "    callbacks=[\n",
    "        LLMCallbackHandler(\n",
    "            Path(\n",
    "                \"/Users/vamsi_mbmax/Library/CloudStorage/OneDrive-Personal/01_vam_PROJECTS/LEARNING/proj_AI/dev_proj_AI/practise_ai_crewai_learn/logs/prompts.jsonl\"\n",
    "            )\n",
    "        )\n",
    "    ],\n",
    ")\n",
    "\n",
    "# llm.invoke(\"what is 2+2\")"
   ]
  },
  {
   "cell_type": "markdown",
   "metadata": {},
   "source": [
    "## CREATE TOOLS"
   ]
  },
  {
   "cell_type": "code",
   "execution_count": 93,
   "metadata": {},
   "outputs": [
    {
     "name": "stdout",
     "output_type": "stream",
     "text": [
      "Using Tool: list_table\n"
     ]
    },
    {
     "data": {
      "text/plain": [
       "'salaries'"
      ]
     },
     "execution_count": 93,
     "metadata": {},
     "output_type": "execute_result"
    }
   ],
   "source": [
    "# tool1 : list all the tables in the database\n",
    "@tool(\"list_table\")\n",
    "def list_tables() -> str:\n",
    "    \"\"\"List the available tables in the database\"\"\"\n",
    "    return ListSQLDatabaseTool(db=db).invoke(\"\")\n",
    "\n",
    "\n",
    "list_tables.run()"
   ]
  },
  {
   "cell_type": "code",
   "execution_count": 94,
   "metadata": {},
   "outputs": [
    {
     "name": "stdout",
     "output_type": "stream",
     "text": [
      "Using Tool: tables_schema\n",
      "\n",
      "CREATE TABLE salaries (\n",
      "\t\"index\" INTEGER, \n",
      "\twork_year INTEGER, \n",
      "\texperience_level TEXT, \n",
      "\temployment_type TEXT, \n",
      "\tjob_title TEXT, \n",
      "\tsalary INTEGER, \n",
      "\tsalary_currency TEXT, \n",
      "\tsalary_in_usd INTEGER, \n",
      "\temployee_residence TEXT, \n",
      "\tremote_ratio INTEGER, \n",
      "\tcompany_location TEXT, \n",
      "\tcompany_size TEXT\n",
      ")\n",
      "\n",
      "/*\n",
      "3 rows from salaries table:\n",
      "index\twork_year\texperience_level\temployment_type\tjob_title\tsalary\tsalary_currency\tsalary_in_usd\temployee_residence\tremote_ratio\tcompany_location\tcompany_size\n",
      "0\t2020\tMI\tFT\tData Scientist\t70000\tEUR\t79833\tDE\t0\tDE\tL\n",
      "1\t2020\tSE\tFT\tMachine Learning Scientist\t260000\tUSD\t260000\tJP\t0\tJP\tS\n",
      "2\t2020\tSE\tFT\tBig Data Engineer\t85000\tGBP\t109024\tGB\t50\tGB\tM\n",
      "*/\n"
     ]
    }
   ],
   "source": [
    "# tool2: return the schema and sample rows\n",
    "@tool(\"tables_schema\")\n",
    "def tables_schema(tables: str) -> str:\n",
    "    \"\"\"\n",
    "    Input is a comma-separated list of tables, output is the schema and sample rows\n",
    "    for those tables. Be sure that the tables actually exist by calling `list_tables` first!\n",
    "    Example Input: table1, table2, table3\n",
    "    \"\"\"\n",
    "    tool = InfoSQLDatabaseTool(db=db)\n",
    "    return tool.invoke(tables)\n",
    "\n",
    "\n",
    "print(tables_schema.run(\"salaries\"))"
   ]
  },
  {
   "cell_type": "code",
   "execution_count": 95,
   "metadata": {},
   "outputs": [
    {
     "name": "stdout",
     "output_type": "stream",
     "text": [
      "Using Tool: execute_sql\n"
     ]
    },
    {
     "data": {
      "text/plain": [
       "\"[(0, 2020, 'MI', 'FT', 'Data Scientist', 70000, 'EUR', 79833, 'DE', 0, 'DE', 'L'), (1, 2020, 'SE', 'FT', 'Machine Learning Scientist', 260000, 'USD', 260000, 'JP', 0, 'JP', 'S'), (2, 2020, 'SE', 'FT', 'Big Data Engineer', 85000, 'GBP', 109024, 'GB', 50, 'GB', 'M'), (3, 2020, 'MI', 'FT', 'Product Data Analyst', 20000, 'USD', 20000, 'HN', 0, 'HN', 'S'), (4, 2020, 'SE', 'FT', 'Machine Learning Engineer', 150000, 'USD', 150000, 'US', 50, 'US', 'L')]\""
      ]
     },
     "execution_count": 95,
     "metadata": {},
     "output_type": "execute_result"
    }
   ],
   "source": [
    "# tool3: executes a given sql query\n",
    "@tool(\"execute_sql\")\n",
    "def execute_sql(sql_query: str) -> str:\n",
    "    \"\"\"Execute a SQL query against the database. Returns the result\"\"\"\n",
    "    return QuerySQLDataBaseTool(db=db).invoke(sql_query)\n",
    "\n",
    "\n",
    "execute_sql.run(\"SELECT * FROM salaries LIMIT 5\")"
   ]
  },
  {
   "cell_type": "code",
   "execution_count": 103,
   "metadata": {},
   "outputs": [
    {
     "name": "stdout",
     "output_type": "stream",
     "text": [
      "Using Tool: check_sql\n"
     ]
    },
    {
     "data": {
      "text/plain": [
       "'```sql\\nSELECT * FROM salaries WHERE salary > 10000 LIMIT 5;\\n```'"
      ]
     },
     "execution_count": 103,
     "metadata": {},
     "output_type": "execute_result"
    }
   ],
   "source": [
    "# tool4: check the sql query before executing\n",
    "@tool(\"check_sql\")\n",
    "def check_sql(sql_query: str) -> str:\n",
    "    \"\"\"\n",
    "    Use this tool to double check if your query is correct before executing it. Always use this tool before executing a query with  'execute_sql'\n",
    "    \"\"\"\n",
    "    return QuerySQLCheckerTool(db=db, llm=llm).invoke({\"query\": sql_query})\n",
    "\n",
    "\n",
    "check_sql.run(\"SELECT * WHERE salary > 10000 LIMIT 5 table = salaries\")"
   ]
  },
  {
   "cell_type": "markdown",
   "metadata": {},
   "source": [
    "## AGENTS"
   ]
  },
  {
   "cell_type": "code",
   "execution_count": 108,
   "metadata": {},
   "outputs": [],
   "source": [
    "# agent1 : database developer\n",
    "sql_dev = Agent(\n",
    "    role=\"Senior Database Developer\",\n",
    "    goal=\"Construct and execute SQL queries based on a request\",\n",
    "    backstory=dedent(\n",
    "        \"\"\"\n",
    "        You are an experienced database engineer who is master at creating efficient and complex SQL queries.\n",
    "        You have a deep understanding of how different databases work and how to optimize queries.\n",
    "        Use the `list_tables` to find available tables.\n",
    "        Use the `tables_schema` to understand the metadata for the tables.\n",
    "        Use the `execute_sql` to check your queries for correctness.\n",
    "        Use the `check_sql` to execute queries against the database.\n",
    "    \"\"\"\n",
    "    ),\n",
    "    llm=llm,\n",
    "    tools=[list_tables, tables_schema, execute_sql, check_sql],\n",
    "    allow_delegation=False,\n",
    ")"
   ]
  },
  {
   "cell_type": "code",
   "execution_count": 112,
   "metadata": {},
   "outputs": [],
   "source": [
    "# agent2: data analyst\n",
    "data_analyst = Agent(\n",
    "    role=\"Senior Data Analyst\",\n",
    "    goal=\"You receive data from the database developer and analyze it\",\n",
    "    backstory=dedent(\n",
    "        \"\"\"\n",
    "        You have deep experience with analyzing datasets using Python.\n",
    "        Your work is always based on the provided data and is clear,\n",
    "        easy-to-understand and to the point. You have attention\n",
    "        to detail and always produce very detailed work (as long as you need).\n",
    "    \"\"\"\n",
    "    ),\n",
    "    llm=llm,\n",
    "    allow_delegation=False,\n",
    ")"
   ]
  },
  {
   "cell_type": "code",
   "execution_count": 114,
   "metadata": {},
   "outputs": [],
   "source": [
    "# agent3: Senior report writer\n",
    "report_writer = Agent(\n",
    "    role=\"Senior Report Editor\",\n",
    "    goal=\"Write an Executive Summary type of report based on the work of the Data Analyst\",\n",
    "    backstory=\"\"\"You writing skill is well known for clear and effective communication. You always summarize long texts into bullet points that contain the most important details\"\"\",\n",
    "    llm=llm,\n",
    "    allow_delegation=False,\n",
    ")"
   ]
  },
  {
   "cell_type": "markdown",
   "metadata": {},
   "source": [
    "## TASKS"
   ]
  },
  {
   "cell_type": "code",
   "execution_count": 116,
   "metadata": {},
   "outputs": [],
   "source": [
    "# task1: extract data\n",
    "extract_data = Task(\n",
    "    description=\"Extract data that is required for the query {query}.\",\n",
    "    expected_output=\"Database result for the query\",\n",
    "    agent=sql_dev,\n",
    ")"
   ]
  },
  {
   "cell_type": "code",
   "execution_count": 117,
   "metadata": {},
   "outputs": [],
   "source": [
    "# task2: analyze data\n",
    "analyze_data = Task(\n",
    "    description=\"Analyze the data from the database and write an analysis for {query}.\",\n",
    "    expected_output=\"Detailed analysis text\",\n",
    "    agent=data_analyst,\n",
    "    context=[extract_data],\n",
    ")"
   ]
  },
  {
   "cell_type": "code",
   "execution_count": 118,
   "metadata": {},
   "outputs": [],
   "source": [
    "# task3: write report\n",
    "write_report = Task(\n",
    "    description=dedent(\n",
    "        \"\"\"Write an executive summary of the report from the analysis. The report must be less than 100 words.\"\"\"\n",
    "    ),\n",
    "    expected_output=\"Markdown Report\",\n",
    "    agent=report_writer,\n",
    "    context=[analyze_data],\n",
    ")"
   ]
  },
  {
   "cell_type": "markdown",
   "metadata": {},
   "source": [
    "## CREW"
   ]
  },
  {
   "cell_type": "code",
   "execution_count": 126,
   "metadata": {},
   "outputs": [
    {
     "name": "stderr",
     "output_type": "stream",
     "text": [
      "Overriding of current TracerProvider is not allowed\n"
     ]
    }
   ],
   "source": [
    "crew = Crew(\n",
    "    agents=[sql_dev, data_analyst, report_writer],\n",
    "    tasks=[extract_data, analyze_data, write_report],\n",
    "    process=Process.sequential,\n",
    "    verbose=False,\n",
    "    memory=False,\n",
    "    output_log_file=\"crew.log\",\n",
    ")"
   ]
  },
  {
   "cell_type": "code",
   "execution_count": 127,
   "metadata": {},
   "outputs": [],
   "source": [
    "inputs = {\n",
    "    \"query\": \"Effects on salary (in US Dollar) based on company location, size and employee experience\"\n",
    "}\n",
    "\n",
    "result = crew.kickoff(inputs=inputs)"
   ]
  },
  {
   "cell_type": "code",
   "execution_count": 129,
   "metadata": {},
   "outputs": [
    {
     "data": {
      "text/markdown": [
       "### Executive Summary\n",
       "\n",
       "This report analyzes the impact of company location, size, and employee experience on average salaries. Key findings include:\n",
       "\n",
       "- **Location**: The US offers the highest salaries, with mid-level salaries at $69,298.33 and entry-level roles reaching $416,000. Canada and Australia also show competitive wages, while Brazil and Vietnam have significantly lower averages. \n",
       "- **Company Size**: Larger companies pay the highest salaries. For example, mid-level roles in Germany average $80,982.4, whereas small companies, particularly in Brazil, offer lower salaries.\n",
       "- **Employee Experience**: Higher experience leads to significantly greater salaries, exemplified by the US's entry-level at $21,453.5 and experienced roles at $416,000. \n",
       "\n",
       "Overall, this data highlights substantial salary variations driven by these factors, guiding both job seekers and employers."
      ],
      "text/plain": [
       "<IPython.core.display.Markdown object>"
      ]
     },
     "metadata": {},
     "output_type": "display_data"
    }
   ],
   "source": [
    "from IPython.display import Markdown, display\n",
    "\n",
    "display(Markdown(result.raw))"
   ]
  }
 ],
 "metadata": {
  "kernelspec": {
   "display_name": ".venv",
   "language": "python",
   "name": "python3"
  },
  "language_info": {
   "codemirror_mode": {
    "name": "ipython",
    "version": 3
   },
   "file_extension": ".py",
   "mimetype": "text/x-python",
   "name": "python",
   "nbconvert_exporter": "python",
   "pygments_lexer": "ipython3",
   "version": "3.12.8"
  }
 },
 "nbformat": 4,
 "nbformat_minor": 2
}
