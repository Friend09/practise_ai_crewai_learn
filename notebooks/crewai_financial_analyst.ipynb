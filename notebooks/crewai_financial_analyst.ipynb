{
 "cells": [
  {
   "cell_type": "markdown",
   "metadata": {},
   "source": [
    "# CREATE A FINACIAL ANALYST USING CREWAI AND GROQ\n"
   ]
  },
  {
   "cell_type": "markdown",
   "metadata": {},
   "source": [
    "[medium article](https://medium.com/the-ai-forum/build-a-financial-analyst-agent-using-crewai-and-llamaindex-6553a035c9b8)"
   ]
  },
  {
   "cell_type": "markdown",
   "metadata": {},
   "source": [
    "## SETUP\n"
   ]
  },
  {
   "cell_type": "code",
   "execution_count": 63,
   "metadata": {},
   "outputs": [],
   "source": [
    "import os\n",
    "from dotenv import load_dotenv, find_dotenv\n",
    "\n",
    "_ = load_dotenv(find_dotenv())"
   ]
  },
  {
   "cell_type": "code",
   "execution_count": 64,
   "metadata": {},
   "outputs": [],
   "source": [
    "from llama_index.llms.groq import Groq\n",
    "\n",
    "GROQ_API_KEY = os.getenv(\"GROQ_API_KEY\")"
   ]
  },
  {
   "cell_type": "code",
   "execution_count": 69,
   "metadata": {},
   "outputs": [],
   "source": [
    "OPENAI_API_KEY = os.getenv(\"OPENAI_API_KEY\")\n",
    "os.environ[\"OPENAI_API_KEY\"] = OPENAI_API_KEY"
   ]
  },
  {
   "cell_type": "markdown",
   "metadata": {},
   "source": [
    "## DATA"
   ]
  },
  {
   "cell_type": "markdown",
   "metadata": {},
   "source": [
    "- [dataset of ds_salaries](https://github.com/YuluDuan/Hypothesis-Testing-Data-Science-salary-comparison-in-different-location/blob/main/ds_salaries.csv)"
   ]
  },
  {
   "cell_type": "code",
   "execution_count": 51,
   "metadata": {},
   "outputs": [
    {
     "name": "stdout",
     "output_type": "stream",
     "text": [
      "--2025-02-10 16:49:30--  https://s23.q4cdn.com/407969754/files/doc_financials/2019/ar/Uber-Technologies-Inc-2019-Annual-Report.pdf\n",
      "Resolving s23.q4cdn.com (s23.q4cdn.com)... 68.70.205.4, 68.70.205.1, 68.70.205.3, ...\n",
      "Connecting to s23.q4cdn.com (s23.q4cdn.com)|68.70.205.4|:443... connected.\n",
      "HTTP request sent, awaiting response... 200 OK\n",
      "Length: 2829436 (2.7M) [application/pdf]\n",
      "Saving to: ‘uber_10k.pdf’\n",
      "\n",
      "uber_10k.pdf        100%[===================>]   2.70M  4.83MB/s    in 0.6s    \n",
      "\n",
      "2025-02-10 16:49:31 (4.83 MB/s) - ‘uber_10k.pdf’ saved [2829436/2829436]\n",
      "\n"
     ]
    }
   ],
   "source": [
    "!wget \"https://s23.q4cdn.com/407969754/files/doc_financials/2019/ar/Uber-Technologies-Inc-2019-Annual-Report.pdf\" -O uber_10k.pdf"
   ]
  },
  {
   "cell_type": "markdown",
   "metadata": {},
   "source": [
    "## SETUP LOGGER"
   ]
  },
  {
   "cell_type": "code",
   "execution_count": null,
   "metadata": {},
   "outputs": [],
   "source": []
  },
  {
   "cell_type": "code",
   "execution_count": null,
   "metadata": {},
   "outputs": [],
   "source": []
  },
  {
   "cell_type": "markdown",
   "metadata": {},
   "source": [
    "## SETUP THE LLM"
   ]
  },
  {
   "cell_type": "markdown",
   "metadata": {},
   "source": [
    "[groq api documentation](https://console.groq.com/docs/quickstart)"
   ]
  },
  {
   "cell_type": "code",
   "execution_count": 66,
   "metadata": {},
   "outputs": [
    {
     "data": {
      "text/plain": [
       "CompletionResponse(text='2 + 2 = 4.', additional_kwargs={}, raw=ChatCompletion(id='chatcmpl-d50d856b-502b-4377-a12d-88d42cd4a0d8', choices=[Choice(finish_reason='stop', index=0, logprobs=None, message=ChatCompletionMessage(content='2 + 2 = 4.', refusal=None, role='assistant', audio=None, function_call=None, tool_calls=None))], created=1739224597, model='llama-3.3-70b-versatile', object='chat.completion', service_tier=None, system_fingerprint='fp_4e32347616', usage=CompletionUsage(completion_tokens=9, prompt_tokens=41, total_tokens=50, completion_tokens_details=None, prompt_tokens_details=None, queue_time=0.067928131, prompt_time=0.007755283, completion_time=0.032727273, total_time=0.040482556), x_groq={'id': 'req_01jkrxthbmfmwsxbphx2w6e309'}), logprobs=None, delta=None)"
      ]
     },
     "execution_count": 66,
     "metadata": {},
     "output_type": "execute_result"
    }
   ],
   "source": [
    "llm_groq = Groq(model=\"llama-3.3-70b-versatile\", api_key=GROQ_API_KEY)\n",
    "llm_groq.complete(\"What is 2+2\")"
   ]
  },
  {
   "cell_type": "code",
   "execution_count": 70,
   "metadata": {},
   "outputs": [
    {
     "data": {
      "text/plain": [
       "AIMessage(content='2 + 2 equals 4.', additional_kwargs={'refusal': None}, response_metadata={'token_usage': {'completion_tokens': 9, 'prompt_tokens': 14, 'total_tokens': 23, 'completion_tokens_details': {'accepted_prediction_tokens': 0, 'audio_tokens': 0, 'reasoning_tokens': 0, 'rejected_prediction_tokens': 0}, 'prompt_tokens_details': {'audio_tokens': 0, 'cached_tokens': 0}}, 'model_name': 'gpt-4o-mini-2024-07-18', 'system_fingerprint': 'fp_72ed7ab54c', 'finish_reason': 'stop', 'logprobs': None}, id='run-6bc36ab2-7aa7-4903-9fbf-b61801f82364-0', usage_metadata={'input_tokens': 14, 'output_tokens': 9, 'total_tokens': 23, 'input_token_details': {'audio': 0, 'cache_read': 0}, 'output_token_details': {'audio': 0, 'reasoning': 0}})"
      ]
     },
     "execution_count": 70,
     "metadata": {},
     "output_type": "execute_result"
    }
   ],
   "source": [
    "# crew requires chat based model\n",
    "from langchain_openai import ChatOpenAI\n",
    "\n",
    "chat_llm = ChatOpenAI(\n",
    "    api_key=OPENAI_API_KEY,\n",
    "    model=\"gpt-4o-mini\",\n",
    ")\n",
    "\n",
    "chat_llm.invoke(\"what is 2+2?\")"
   ]
  },
  {
   "cell_type": "markdown",
   "metadata": {},
   "source": [
    "## PARSE DATA"
   ]
  },
  {
   "cell_type": "code",
   "execution_count": 54,
   "metadata": {},
   "outputs": [
    {
     "data": {
      "text/plain": [
       "Document(id_='64d02e77-da1d-40b8-9e48-336801a71272', embedding=None, metadata={'page_label': '1', 'file_name': 'uber_10k.pdf', 'file_path': '../data/uber_10k.pdf', 'file_type': 'application/pdf', 'file_size': 2829436, 'creation_date': '2025-02-10', 'last_modified_date': '2020-03-30'}, excluded_embed_metadata_keys=['file_name', 'file_type', 'file_size', 'creation_date', 'last_modified_date', 'last_accessed_date'], excluded_llm_metadata_keys=['file_name', 'file_type', 'file_size', 'creation_date', 'last_modified_date', 'last_accessed_date'], relationships={}, metadata_template='{key}: {value}', metadata_separator='\\n', text_resource=MediaResource(embeddings=None, data=None, text='2019\\nAnnual  \\nReport', path=None, url=None, mimetype=None), image_resource=None, audio_resource=None, video_resource=None, text_template='{metadata_str}\\n\\n{content}')"
      ]
     },
     "execution_count": 54,
     "metadata": {},
     "output_type": "execute_result"
    }
   ],
   "source": [
    "from llama_index.core import SimpleDirectoryReader, VectorStoreIndex\n",
    "from llama_index.llms.openai import OpenAI\n",
    "import os\n",
    "from langchain_openai import ChatOpenAI\n",
    "\n",
    "reader = SimpleDirectoryReader(input_files=[\"../data/uber_10k.pdf\"])\n",
    "docs = reader.load_data()\n",
    "docs[0]"
   ]
  },
  {
   "cell_type": "code",
   "execution_count": 55,
   "metadata": {},
   "outputs": [],
   "source": [
    "# setup embeddings\n",
    "from llama_index.embeddings.huggingface import HuggingFaceEmbedding\n",
    "\n",
    "embed_model = HuggingFaceEmbedding(model_name=\"BAAI/bge-small-en-v1.5\")"
   ]
  },
  {
   "cell_type": "code",
   "execution_count": 56,
   "metadata": {},
   "outputs": [],
   "source": [
    "# build index/vectors\n",
    "index = VectorStoreIndex.from_documents(documents=docs, embed_model=embed_model)"
   ]
  },
  {
   "cell_type": "code",
   "execution_count": 57,
   "metadata": {},
   "outputs": [],
   "source": [
    "query_engine = index.as_query_engine(similarity_top_k=5, llm=llm)"
   ]
  },
  {
   "cell_type": "code",
   "execution_count": 58,
   "metadata": {},
   "outputs": [
    {
     "data": {
      "text/plain": [
       "{'description': 'Schema for query tool.',\n",
       " 'properties': {'query': {'description': 'Search query for the query tool.',\n",
       "   'title': 'Query',\n",
       "   'type': 'string'}},\n",
       " 'required': ['query'],\n",
       " 'title': 'QueryToolSchema',\n",
       " 'type': 'object'}"
      ]
     },
     "execution_count": 58,
     "metadata": {},
     "output_type": "execute_result"
    }
   ],
   "source": [
    "from crewai import Agent\n",
    "from crewai_tools import LlamaIndexTool\n",
    "\n",
    "query_tool = LlamaIndexTool.from_query_engine(\n",
    "    query_engine=query_engine,\n",
    "    name=\"Uber 2019 10K Query Tool\",\n",
    "    description=\"Use this tool to lookup the 2019 Uber 10k Annual Report\",\n",
    ")\n",
    "\n",
    "query_tool.args_schema.model_json_schema()"
   ]
  },
  {
   "cell_type": "markdown",
   "metadata": {},
   "source": [
    "## AGENTS"
   ]
  },
  {
   "cell_type": "code",
   "execution_count": 71,
   "metadata": {},
   "outputs": [],
   "source": [
    "import os\n",
    "from crewai import Agent, Task, Crew, Process"
   ]
  },
  {
   "cell_type": "code",
   "execution_count": 72,
   "metadata": {},
   "outputs": [],
   "source": [
    "researcher = Agent(\n",
    "    role=\"Senior Financial Analyst\",\n",
    "    goal=\"Uncover insights about different tech companies\",\n",
    "    backstory=\"\"\"You work at an asset management firm. Your goal is to understand tech stocks like Uber.\"\"\",\n",
    "    verbose=True,\n",
    "    allow_delegation=False,\n",
    "    llm=chat_llm,\n",
    ")"
   ]
  },
  {
   "cell_type": "code",
   "execution_count": 73,
   "metadata": {},
   "outputs": [],
   "source": [
    "writer = Agent(\n",
    "    role=\"Technology Content Writer\",\n",
    "    goal=\"Craft compelling content on technology advancements\",\n",
    "    backstory=\"You are a renowned Content writer, known for your insightful and engaging articles. You transform complex concepts into compelling narratives\",\n",
    "    verbose=True,\n",
    "    allow_delegation=False,\n",
    "    llm=chat_llm,\n",
    ")"
   ]
  },
  {
   "cell_type": "markdown",
   "metadata": {},
   "source": [
    "## CREATE TOOLS"
   ]
  },
  {
   "cell_type": "code",
   "execution_count": null,
   "metadata": {},
   "outputs": [],
   "source": []
  },
  {
   "cell_type": "markdown",
   "metadata": {},
   "source": [
    "## TASKS"
   ]
  },
  {
   "cell_type": "code",
   "execution_count": 74,
   "metadata": {},
   "outputs": [],
   "source": [
    "task_analysis = Task(\n",
    "    description=\"Conduct a comprehensive analysis of Uber's risk factors in 2019.\",\n",
    "    expected_output=\"Full analysis report in bullet points\",\n",
    "    agent=researcher,\n",
    ")"
   ]
  },
  {
   "cell_type": "code",
   "execution_count": 75,
   "metadata": {},
   "outputs": [],
   "source": [
    "task_writing = Task(\n",
    "    description=\"\"\"Using the insights provided, develop an engaging blog post that highlights the headwinds that Uber faces. Your post should be informative yet accesible, catering to a casual audience. Make it simple, informative.\"\"\",\n",
    "    expected_output=\"Full blog post of atleast 2 Paragraphs targetted to Medium users.\",\n",
    "    agent=writer,\n",
    ")"
   ]
  },
  {
   "cell_type": "markdown",
   "metadata": {},
   "source": [
    "## CREW"
   ]
  },
  {
   "cell_type": "code",
   "execution_count": 76,
   "metadata": {},
   "outputs": [
    {
     "name": "stderr",
     "output_type": "stream",
     "text": [
      "2025-02-10 16:59:01,363 - 8347551808 - __init__.py-__init__:537 - WARNING: Overriding of current TracerProvider is not allowed\n"
     ]
    }
   ],
   "source": [
    "crew = Crew(\n",
    "    agents=[researcher, writer], tasks=[task_analysis, task_writing], verbose=True\n",
    ")"
   ]
  },
  {
   "cell_type": "code",
   "execution_count": 77,
   "metadata": {},
   "outputs": [
    {
     "name": "stdout",
     "output_type": "stream",
     "text": [
      "\u001b[1m\u001b[95m# Agent:\u001b[00m \u001b[1m\u001b[92mSenior Financial Analyst\u001b[00m\n",
      "\u001b[95m## Task:\u001b[00m \u001b[92mConduct a comprehensive analysis of Uber's risk factors in 2019.\u001b[00m\n",
      "\n",
      "\n",
      "\u001b[1m\u001b[95m# Agent:\u001b[00m \u001b[1m\u001b[92mSenior Financial Analyst\u001b[00m\n",
      "\u001b[95m## Final Answer:\u001b[00m \u001b[92m\n",
      "**Comprehensive Analysis of Uber's Risk Factors in 2019**\n",
      "\n",
      "- **Regulatory Risk:**\n",
      "  - Increasing scrutiny from regulatory bodies regarding pricing algorithms, surge pricing practices, and driver classification.\n",
      "  - Potential impact of government regulations on ridesharing operations across different markets, especially in cities imposing stricter regulations.\n",
      "  - Changes in labor laws that could redefine the classification of rideshare drivers from independent contractors to employees, leading to increased operational costs.\n",
      "\n",
      "- **Market Competition:**\n",
      "  - Intense competition from established players like Lyft in the U.S., as well as emerging rivals in international markets such as Didi Chuxing in China and Ola in India.\n",
      "  - Price wars and promotional discounts that could erode margins and profitability.\n",
      "  - The threat of new entrants into the ridesharing market, leveraging technology to capture market share.\n",
      "\n",
      "- **Operational Risks:**\n",
      "  - Challenges in maintaining driver relationships, including driver retention and satisfaction, which could impact service reliability and customer experience.\n",
      "  - Potential for operational disruptions, including those caused by technology outages, unexpected vehicle shortages, or changes in consumer behavior.\n",
      "  - The volatility of fuel prices that could influence operational costs and affect pricing strategies.\n",
      "\n",
      "- **Technological Risks:**\n",
      "  - Dependence on technology and software, with potential vulnerabilities to cyber attacks or data breaches that could affect user trust and company reputation.\n",
      "  - The challenge of scaling autonomous vehicle technology, which could result in significant capital expenditures without guaranteed success.\n",
      "  - Need for continuous innovation to stay ahead of the competition, leading to higher research and development costs.\n",
      "\n",
      "- **Reputation Risk:**\n",
      "  - Past controversies regarding rider safety, driver conduct, and workplace culture that could damage Uber's brand and customer loyalty.\n",
      "  - Public perception of Uber's business practices concerning safety, labor rights, and environmental impact could influence customer choices.\n",
      "  - Legal battles and negative media coverage that may impact public trust and stakeholder relationships.\n",
      "\n",
      "- **Financial Risks:**\n",
      "  - Dependence on outside investments for funding due to ongoing net losses, increasing the level of risk for stakeholders.\n",
      "  - Fluctuation in market conditions could affect the company’s ability to raise capital, especially during economic downturns.\n",
      "  - Uncertain revenue streams due to changing market dynamics, including consumer preferences for alternative modes of transportation.\n",
      "\n",
      "- **Economic Risks:**\n",
      "  - Vulnerability to global economic conditions affecting discretionary spending; economic downturns may lead to reduced ride-sharing demand.\n",
      "  - Fluctuations in exchange rates for international operations can impact profitability and financial statements.\n",
      "  - Changes in consumer behavior, especially in response to wider economic pressures, could affect service use patterns.\n",
      "\n",
      "- **Strategic Risks:**\n",
      "  - Difficulty in executing global expansion strategies while navigating diverse regulatory environments.\n",
      "  - Challenges in diversifying offerings, such as food delivery (Uber Eats) and freight, and the financial impact of these ventures.\n",
      "  - The need for efficient capital allocation amidst a rapidly changing business landscape that requires agility and adaptability.\n",
      "\n",
      "- **Geopolitical Risks:**\n",
      "  - Exposure to geopolitical tensions that might affect Uber's operations in various international markets.\n",
      "  - Risk of changes in trade treaties or tariffs impacting cross-border operations and costs of doing business.\n",
      "\n",
      "This comprehensive analysis outlines the various risk factors that Uber faced in 2019, which are crucial for understanding the company's vulnerabilities and operational challenges during that period.\u001b[00m\n",
      "\n",
      "\n",
      "\u001b[1m\u001b[95m# Agent:\u001b[00m \u001b[1m\u001b[92mTechnology Content Writer\u001b[00m\n",
      "\u001b[95m## Task:\u001b[00m \u001b[92mUsing the insights provided, develop an engaging blog post that highlights the headwinds that Uber faces. Your post should be informative yet accesible, catering to a casual audience. Make it simple, informative.\u001b[00m\n",
      "\n",
      "\n",
      "\u001b[1m\u001b[95m# Agent:\u001b[00m \u001b[1m\u001b[92mTechnology Content Writer\u001b[00m\n",
      "\u001b[95m## Final Answer:\u001b[00m \u001b[92m\n",
      "**Navigating Uber's Bumpy Ride: Understanding the Challenges Ahead**\n",
      "\n",
      "As one of the world's leading ridesharing platforms, Uber has transformed the way we think about transportation. Yet, beneath its glossy surface lies a complex web of challenges that threaten its ongoing success. From regulatory scrutiny to fierce market competition, Uber faces a myriad of headwinds that could derail its operations if not addressed effectively. One major concern is regulatory risk; governments worldwide are tightening their grip on ridesharing companies, questioning pricing algorithms, surge pricing models, and driver classifications. The potential reclassification of drivers from independent contractors to employees could significantly inflate operational costs, forcing Uber to rethink its business model while contending with different regulations across cities and countries. \n",
      "\n",
      "In addition to regulatory hurdles, market competition remains a formidable foe. Competitors such as Lyft in the U.S. and Didi Chuxing in China are not only vying for market share, but also engaging in price wars that can undermine profit margins. This is exacerbated by the constant threat from new entrants leveraging innovative technologies to carve out a niche in the transportation industry. Uber's operational risks further complicate the landscape; dissatisfaction among drivers could hamper service quality, and reliance on technology makes the platform susceptible to outages and cyber threats. With the company in a perpetual chase for technological advancement—like autonomous vehicles—its financial stability hinges on successful innovation, which often comes with hefty research and development costs. As these myriad challenges unfold, Uber must navigate its turbulent terrain with agility, foresight, and a commitment to maintaining customer trust while carving out a sustainable future.\u001b[00m\n",
      "\n",
      "\n",
      "######################\n",
      "**Navigating Uber's Bumpy Ride: Understanding the Challenges Ahead**\n",
      "\n",
      "As one of the world's leading ridesharing platforms, Uber has transformed the way we think about transportation. Yet, beneath its glossy surface lies a complex web of challenges that threaten its ongoing success. From regulatory scrutiny to fierce market competition, Uber faces a myriad of headwinds that could derail its operations if not addressed effectively. One major concern is regulatory risk; governments worldwide are tightening their grip on ridesharing companies, questioning pricing algorithms, surge pricing models, and driver classifications. The potential reclassification of drivers from independent contractors to employees could significantly inflate operational costs, forcing Uber to rethink its business model while contending with different regulations across cities and countries. \n",
      "\n",
      "In addition to regulatory hurdles, market competition remains a formidable foe. Competitors such as Lyft in the U.S. and Didi Chuxing in China are not only vying for market share, but also engaging in price wars that can undermine profit margins. This is exacerbated by the constant threat from new entrants leveraging innovative technologies to carve out a niche in the transportation industry. Uber's operational risks further complicate the landscape; dissatisfaction among drivers could hamper service quality, and reliance on technology makes the platform susceptible to outages and cyber threats. With the company in a perpetual chase for technological advancement—like autonomous vehicles—its financial stability hinges on successful innovation, which often comes with hefty research and development costs. As these myriad challenges unfold, Uber must navigate its turbulent terrain with agility, foresight, and a commitment to maintaining customer trust while carving out a sustainable future.\n"
     ]
    }
   ],
   "source": [
    "# Get your crew to work!\n",
    "result = crew.kickoff()\n",
    "\n",
    "print(\"######################\")\n",
    "print(result)"
   ]
  },
  {
   "cell_type": "code",
   "execution_count": null,
   "metadata": {},
   "outputs": [],
   "source": []
  }
 ],
 "metadata": {
  "kernelspec": {
   "display_name": ".venv",
   "language": "python",
   "name": "python3"
  },
  "language_info": {
   "codemirror_mode": {
    "name": "ipython",
    "version": 3
   },
   "file_extension": ".py",
   "mimetype": "text/x-python",
   "name": "python",
   "nbconvert_exporter": "python",
   "pygments_lexer": "ipython3",
   "version": "3.12.9"
  }
 },
 "nbformat": 4,
 "nbformat_minor": 2
}
